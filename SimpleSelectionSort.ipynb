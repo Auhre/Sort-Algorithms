{
  "nbformat": 4,
  "nbformat_minor": 0,
  "metadata": {
    "colab": {
      "name": "SimpleSelectionSort.ipynb",
      "provenance": []
    },
    "kernelspec": {
      "name": "python3",
      "display_name": "Python 3"
    },
    "language_info": {
      "name": "python"
    }
  },
  "cells": [
    {
      "cell_type": "code",
      "source": [
        "def simpleSelectionSort (arrayList, mode, length):\n",
        "  if mode == 'ascending':\n",
        "    sorted = ascending(arrayList, length)\n",
        "  else:\n",
        "    sorted = descending(arrayList, length)\n",
        "  return print(sorted)"
      ],
      "metadata": {
        "id": "9B5XaEYdvkHy"
      },
      "execution_count": 1,
      "outputs": []
    },
    {
      "cell_type": "code",
      "source": [
        "def ascending(llist, length):\n",
        "  manipulated_array = [None] * length\n",
        "  i = 0\n",
        "  while i < length:\n",
        "    min_val = min(llist)\n",
        "    min_index = llist.index(min_val)\n",
        "    min_index\n",
        "    temp_a = llist[min_index]\n",
        "    temp_b = llist[0]\n",
        "    llist[0] = temp_a\n",
        "    llist[min_index] = temp_b\n",
        "    manipulated_array[i] = llist.pop(0)\n",
        "    i = i + 1\n",
        "\n",
        "  return manipulated_array"
      ],
      "metadata": {
        "id": "K-oAVT00vlwh"
      },
      "execution_count": 2,
      "outputs": []
    },
    {
      "cell_type": "code",
      "source": [
        "def descending(llist, length):\n",
        "  manipulated_array = [None] * length\n",
        "  i = 0\n",
        "  while i < length:\n",
        "    max_val = max(llist)\n",
        "    max_index = llist.index(max_val)\n",
        "    max_index\n",
        "    temp_a = llist[max_index]\n",
        "    temp_b = llist[0]\n",
        "    llist[0] = temp_a\n",
        "    llist[max_index] = temp_b\n",
        "    manipulated_array[i] = llist.pop(0)\n",
        "    i = i + 1\n",
        "\n",
        "  return manipulated_array"
      ],
      "metadata": {
        "id": "YxfNsk-qvnfh"
      },
      "execution_count": 3,
      "outputs": []
    },
    {
      "cell_type": "code",
      "source": [
        "choice = input(\"Numerical Data or Alphabet? \")"
      ],
      "metadata": {
        "colab": {
          "base_uri": "https://localhost:8080/"
        },
        "id": "Up4hFFiQvtIw",
        "outputId": "4956196c-42eb-412b-e04a-f7c6b5b97085"
      },
      "execution_count": 4,
      "outputs": [
        {
          "name": "stdout",
          "output_type": "stream",
          "text": [
            "Numerical Data or Alphabet? numerical\n"
          ]
        }
      ]
    },
    {
      "cell_type": "code",
      "source": [
        "sortLength = input(\"How many elements do you prefer to sort? \")"
      ],
      "metadata": {
        "colab": {
          "base_uri": "https://localhost:8080/"
        },
        "id": "cP2C8Jo4vwWC",
        "outputId": "d2488efd-2cdd-4917-8873-82c4be3a297a"
      },
      "execution_count": 5,
      "outputs": [
        {
          "name": "stdout",
          "output_type": "stream",
          "text": [
            "How many elements do you prefer to sort? 12\n"
          ]
        }
      ]
    },
    {
      "cell_type": "code",
      "source": [
        "sortLength = int(sortLength)"
      ],
      "metadata": {
        "id": "wc7mvmrDvxwU"
      },
      "execution_count": 6,
      "outputs": []
    },
    {
      "cell_type": "code",
      "source": [
        "i = 0\n",
        "sortingList = [None] * sortLength \n",
        "if choice == 'numerical':\n",
        "  while ( i < sortLength):\n",
        "    count = i + 1\n",
        "    sortingList[i] = int(input(\"Element %d: \" %count))\n",
        "    i = i + 1;\n",
        "else:\n",
        "  while ( i < sortLength):\n",
        "    count = i + 1\n",
        "    sortingList[i] = input(\"Element %d: \" %count)\n",
        "    i = i + 1;"
      ],
      "metadata": {
        "colab": {
          "base_uri": "https://localhost:8080/"
        },
        "id": "ER4NIzQsvzqE",
        "outputId": "17663165-0df0-46fd-ce4e-298ccc2c6faf"
      },
      "execution_count": 7,
      "outputs": [
        {
          "name": "stdout",
          "output_type": "stream",
          "text": [
            "Element 1: 323\n",
            "Element 2: 54\n",
            "Element 3: 335\n",
            "Element 4: 63\n",
            "Element 5: 8\n",
            "Element 6: 23\n",
            "Element 7: 8764\n",
            "Element 8: 743\n",
            "Element 9: 532\n",
            "Element 10: 12\n",
            "Element 11: 4993\n",
            "Element 12: 124\n"
          ]
        }
      ]
    },
    {
      "cell_type": "code",
      "source": [
        "mode = input(\"Ascending or Descending? \")"
      ],
      "metadata": {
        "colab": {
          "base_uri": "https://localhost:8080/"
        },
        "id": "H--K0rE2v2pz",
        "outputId": "b66e2654-526d-4176-da8d-7419c38d99f8"
      },
      "execution_count": 8,
      "outputs": [
        {
          "name": "stdout",
          "output_type": "stream",
          "text": [
            "Ascending or Descending? descending\n"
          ]
        }
      ]
    },
    {
      "cell_type": "code",
      "source": [
        "simpleSelectionSort(sortingList, mode, sortLength)"
      ],
      "metadata": {
        "colab": {
          "base_uri": "https://localhost:8080/"
        },
        "id": "m-6ylSArvo_4",
        "outputId": "29431889-9943-4b35-87f1-66f3d1cbf7ae"
      },
      "execution_count": 9,
      "outputs": [
        {
          "output_type": "stream",
          "name": "stdout",
          "text": [
            "[8764, 4993, 743, 532, 335, 323, 124, 63, 54, 23, 12, 8]\n"
          ]
        }
      ]
    }
  ]
}