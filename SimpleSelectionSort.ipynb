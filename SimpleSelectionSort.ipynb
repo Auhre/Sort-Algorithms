{
  "nbformat": 4,
  "nbformat_minor": 0,
  "metadata": {
    "colab": {
      "name": "SimpleSelectionSort.ipynb",
      "provenance": []
    },
    "kernelspec": {
      "name": "python3",
      "display_name": "Python 3"
    },
    "language_info": {
      "name": "python"
    }
  },
  "cells": [
    {
      "cell_type": "code",
      "source": [
        "def simpleSelectionSort (arrayList, mode, length):\n",
        "  if mode == 'ascending':\n",
        "    sorted = ascending(arrayList, length)\n",
        "  else:\n",
        "    sorted = descending(arrayList, length)\n",
        "  return print(sorted)"
      ],
      "metadata": {
        "id": "9B5XaEYdvkHy"
      },
      "execution_count": 1,
      "outputs": []
    },
    {
      "cell_type": "code",
      "source": [
        "def ascending(llist, length):\n",
        "  manipulated_array = [None] * length\n",
        "  i = 0\n",
        "  while i < length:\n",
        "    min_val = min(llist)\n",
        "    min_index = llist.index(min_val)\n",
        "    temp_a = llist[min_index]\n",
        "    temp_b = llist[0]\n",
        "    llist[0] = temp_a\n",
        "    llist[min_index] = temp_b\n",
        "    manipulated_array[i] = llist.pop(0)\n",
        "    i = i + 1\n",
        "\n",
        "  return manipulated_array"
      ],
      "metadata": {
        "id": "K-oAVT00vlwh"
      },
      "execution_count": 2,
      "outputs": []
    },
    {
      "cell_type": "code",
      "source": [
        "def descending(llist, length):\n",
        "  manipulated_array = [None] * length\n",
        "  i = 0\n",
        "  while i < length:\n",
        "    max_val = max(llist)\n",
        "    max_index = llist.index(max_val)\n",
        "    temp_a = llist[max_index]\n",
        "    temp_b = llist[0]\n",
        "    llist[0] = temp_a\n",
        "    llist[max_index] = temp_b\n",
        "    manipulated_array[i] = llist.pop(0)\n",
        "    i = i + 1\n",
        "\n",
        "  return manipulated_array"
      ],
      "metadata": {
        "id": "YxfNsk-qvnfh"
      },
      "execution_count": 3,
      "outputs": []
    },
    {
      "cell_type": "code",
      "source": [
        "choice = input(\"Numerical Data or Alphabet? \")"
      ],
      "metadata": {
        "colab": {
          "base_uri": "https://localhost:8080/"
        },
        "id": "Up4hFFiQvtIw",
        "outputId": "37893eb3-ecdd-4f81-e54c-a49528b393b5"
      },
      "execution_count": 4,
      "outputs": [
        {
          "name": "stdout",
          "output_type": "stream",
          "text": [
            "Numerical Data or Alphabet? numerical\n"
          ]
        }
      ]
    },
    {
      "cell_type": "code",
      "source": [
        "sortLength = input(\"How many elements do you prefer to sort? \")"
      ],
      "metadata": {
        "colab": {
          "base_uri": "https://localhost:8080/"
        },
        "id": "cP2C8Jo4vwWC",
        "outputId": "76bf2bcf-2143-4181-936c-f79e7692e371"
      },
      "execution_count": 5,
      "outputs": [
        {
          "name": "stdout",
          "output_type": "stream",
          "text": [
            "How many elements do you prefer to sort? 18\n"
          ]
        }
      ]
    },
    {
      "cell_type": "code",
      "source": [
        "sortLength = int(sortLength)"
      ],
      "metadata": {
        "id": "wc7mvmrDvxwU"
      },
      "execution_count": 6,
      "outputs": []
    },
    {
      "cell_type": "code",
      "source": [
        "i = 0\n",
        "sortingList = [None] * sortLength \n",
        "if choice == 'numerical':\n",
        "  while ( i < sortLength):\n",
        "    count = i + 1\n",
        "    sortingList[i] = int(input(\"Element %d: \" %count))\n",
        "    i = i + 1;\n",
        "else:\n",
        "  while ( i < sortLength):\n",
        "    count = i + 1\n",
        "    sortingList[i] = input(\"Element %d: \" %count)\n",
        "    i = i + 1;"
      ],
      "metadata": {
        "colab": {
          "base_uri": "https://localhost:8080/"
        },
        "id": "ER4NIzQsvzqE",
        "outputId": "901e508e-0c0b-4c0b-b862-4b8f9b80f7b0"
      },
      "execution_count": 7,
      "outputs": [
        {
          "name": "stdout",
          "output_type": "stream",
          "text": [
            "Element 1: 34\n",
            "Element 2: 329\n",
            "Element 3: 94\n",
            "Element 4: 28\n",
            "Element 5: 58\n",
            "Element 6: 2388\n",
            "Element 7: 49\n",
            "Element 8: 1029\n",
            "Element 9: 494\n",
            "Element 10: 36\n",
            "Element 11: 75\n",
            "Element 12: 357\n",
            "Element 13: 1754\n",
            "Element 14: 657\n",
            "Element 15: 35\n",
            "Element 16: 643\n",
            "Element 17: 894\n",
            "Element 18: 247\n"
          ]
        }
      ]
    },
    {
      "cell_type": "code",
      "source": [
        "mode = input(\"Ascending or Descending? \")"
      ],
      "metadata": {
        "colab": {
          "base_uri": "https://localhost:8080/"
        },
        "id": "H--K0rE2v2pz",
        "outputId": "fd10c4ec-5d4a-41f8-fe19-f929a9515ddd"
      },
      "execution_count": 8,
      "outputs": [
        {
          "name": "stdout",
          "output_type": "stream",
          "text": [
            "Ascending or Descending? ascending\n"
          ]
        }
      ]
    },
    {
      "cell_type": "code",
      "source": [
        "simpleSelectionSort(sortingList, mode, sortLength)"
      ],
      "metadata": {
        "colab": {
          "base_uri": "https://localhost:8080/"
        },
        "id": "m-6ylSArvo_4",
        "outputId": "88f7df18-419f-4207-9f34-53628b79ddf7"
      },
      "execution_count": 9,
      "outputs": [
        {
          "output_type": "stream",
          "name": "stdout",
          "text": [
            "[28, 34, 35, 36, 49, 58, 75, 94, 247, 329, 357, 494, 643, 657, 894, 1029, 1754, 2388]\n"
          ]
        }
      ]
    }
  ]
}