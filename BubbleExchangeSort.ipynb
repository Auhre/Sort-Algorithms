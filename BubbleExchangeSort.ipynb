{
  "nbformat": 4,
  "nbformat_minor": 0,
  "metadata": {
    "colab": {
      "name": "BubbleExchangeSort.ipynb",
      "provenance": []
    },
    "kernelspec": {
      "name": "python3",
      "display_name": "Python 3"
    },
    "language_info": {
      "name": "python"
    }
  },
  "cells": [
    {
      "cell_type": "code",
      "execution_count": 1,
      "metadata": {
        "colab": {
          "base_uri": "https://localhost:8080/"
        },
        "id": "_3ECYe6Yt7jG",
        "outputId": "f8bcc8e5-402d-4d04-9591-8f8a8fd7b9a3"
      },
      "outputs": [
        {
          "name": "stdout",
          "output_type": "stream",
          "text": [
            "How many numbers do you prefer to sort? 6\n"
          ]
        }
      ],
      "source": [
        "sortLength = input(\"How many numbers do you prefer to sort? \")"
      ]
    },
    {
      "cell_type": "code",
      "source": [
        "sortLength = int(sortLength)\n",
        "i = 0\n",
        "sortingList = [None] * sortLength \n",
        "while ( i < sortLength):\n",
        "  count = i + 1\n",
        "  sortingList[i] = int(input(\"Element %d: \" %count))\n",
        "  i = i + 1;"
      ],
      "metadata": {
        "colab": {
          "base_uri": "https://localhost:8080/"
        },
        "id": "__IkAwWrt9ca",
        "outputId": "50104553-d01f-4318-c31d-0d1a509da9d5"
      },
      "execution_count": 2,
      "outputs": [
        {
          "name": "stdout",
          "output_type": "stream",
          "text": [
            "Element 1: 32\n",
            "Element 2: 453\n",
            "Element 3: 783\n",
            "Element 4: 49\n",
            "Element 5: 2\n",
            "Element 6: 8764\n"
          ]
        }
      ]
    },
    {
      "cell_type": "code",
      "source": [
        "mode = input(\"Ascending or Descending? \")"
      ],
      "metadata": {
        "colab": {
          "base_uri": "https://localhost:8080/"
        },
        "id": "eYUJRlSEt_CK",
        "outputId": "96ec2c94-4ef1-447f-b932-8364fd190ad3"
      },
      "execution_count": 3,
      "outputs": [
        {
          "name": "stdout",
          "output_type": "stream",
          "text": [
            "Ascending or Descending? descending\n"
          ]
        }
      ]
    },
    {
      "cell_type": "code",
      "source": [
        "def bubbleExchangeSort(arrayList, mode, length):\n",
        "  i = 0\n",
        "  if mode == 'ascending':\n",
        "    while i < length:\n",
        "      i = i + 1\n",
        "      sorted = ascending(arrayList, length, i)\n",
        "  else:\n",
        "    while i < length:\n",
        "      i = i + 1\n",
        "      sorted = descending(arrayList, length, i)\n",
        "  return print(\"The sorted List is \" +str(sorted))"
      ],
      "metadata": {
        "id": "e27jPW35uAmd"
      },
      "execution_count": 4,
      "outputs": []
    },
    {
      "cell_type": "code",
      "source": [
        "def descending(llist, length, j):\n",
        "  manipulated_array = [None] * length\n",
        "  i = 0\n",
        "  while i < length-j:\n",
        "    temp_a = llist[i]\n",
        "    temp_b = llist[i+1]\n",
        "    if temp_a > temp_b:\n",
        "      llist[i] = temp_a\n",
        "      llist[i+1] = temp_b\n",
        "    else:\n",
        "      llist[i] = temp_b\n",
        "      llist[i+1] = temp_a;\n",
        "    i = i + 1\n",
        "    print(llist)\n",
        "  return llist"
      ],
      "metadata": {
        "id": "2Zx2aTrmuB1a"
      },
      "execution_count": 5,
      "outputs": []
    },
    {
      "cell_type": "code",
      "source": [
        "def ascending(llist, length, j):\n",
        "  manipulated_array = [None] * length\n",
        "  i = 0\n",
        "  while i < length-j:\n",
        "    temp_a = llist[i]\n",
        "    temp_b = llist[i+1]\n",
        "    if temp_a < temp_b:\n",
        "      llist[i] = temp_a\n",
        "      llist[i+1] = temp_b\n",
        "    else:\n",
        "      llist[i] = temp_b\n",
        "      llist[i+1] = temp_a;\n",
        "    i = i + 1\n",
        "    print(llist)\n",
        "  return llist"
      ],
      "metadata": {
        "id": "oYqtgsEzuDT3"
      },
      "execution_count": 6,
      "outputs": []
    },
    {
      "cell_type": "code",
      "source": [
        "bubbleExchangeSort(sortingList, mode, sortLength)"
      ],
      "metadata": {
        "colab": {
          "base_uri": "https://localhost:8080/"
        },
        "id": "snuh7S5CuE9e",
        "outputId": "a64dd04f-fc31-425a-9e49-ffa56ade9ca6"
      },
      "execution_count": 7,
      "outputs": [
        {
          "output_type": "stream",
          "name": "stdout",
          "text": [
            "[453, 32, 783, 49, 2, 8764]\n",
            "[453, 783, 32, 49, 2, 8764]\n",
            "[453, 783, 49, 32, 2, 8764]\n",
            "[453, 783, 49, 32, 2, 8764]\n",
            "[453, 783, 49, 32, 8764, 2]\n",
            "[783, 453, 49, 32, 8764, 2]\n",
            "[783, 453, 49, 32, 8764, 2]\n",
            "[783, 453, 49, 32, 8764, 2]\n",
            "[783, 453, 49, 8764, 32, 2]\n",
            "[783, 453, 49, 8764, 32, 2]\n",
            "[783, 453, 49, 8764, 32, 2]\n",
            "[783, 453, 8764, 49, 32, 2]\n",
            "[783, 453, 8764, 49, 32, 2]\n",
            "[783, 8764, 453, 49, 32, 2]\n",
            "[8764, 783, 453, 49, 32, 2]\n",
            "The sorted List is [8764, 783, 453, 49, 32, 2]\n"
          ]
        }
      ]
    }
  ]
}